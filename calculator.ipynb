{
 "cells": [
  {
   "cell_type": "code",
   "execution_count": 4,
   "metadata": {},
   "outputs": [
    {
     "name": "stdout",
     "output_type": "stream",
     "text": [
      "enter value of radius: 12\n",
      "a_o_c -->  452.39\n"
     ]
    }
   ],
   "source": [
    "from math import pi\n",
    "r = int(input('enter value of radius: '))\n",
    "a_o_c = round(pi*r**2,2)\n",
    "print('a_o_c --> ',a_o_c)"
   ]
  },
  {
   "cell_type": "code",
   "execution_count": 2,
   "metadata": {},
   "outputs": [
    {
     "name": "stdout",
     "output_type": "stream",
     "text": [
      "enter first value: 90\n",
      "enter your operator: sin\n",
      "enter second  value: 45\n",
      "0.8939966636005579 : 0.8509035245341184\n"
     ]
    }
   ],
   "source": [
    "from math import *\n",
    "num1 = float(input('enter first value: '))\n",
    "operator = input('enter your operator: ')\n",
    "num2 = float(input('enter second  value: '))\n",
    "\n",
    "if operator == '+':\n",
    "    print(num1 + num2)\n",
    "elif operator == '-':\n",
    "    print(num1 - num2)\n",
    "elif operator == '*':\n",
    "    print(num1 * num2)\n",
    "elif operator == '/':\n",
    "    print(num1 / num2)\n",
    "elif operator == 'pi':\n",
    "    print(num1*pi,':', num2*pi)\n",
    "elif operator == 'sin':\n",
    "    print(sin(num1),':',sin(num2))\n",
    "elif operator == 'cos':\n",
    "    print(cos(num1),':',cos(num2))\n",
    "elif operator == 'tan':\n",
    "    print(tan(num1),':',tan(num2))\n",
    "elif operator == '%':\n",
    "    print(floor(num1+num2))"
   ]
  },
  {
   "cell_type": "markdown",
   "metadata": {},
   "source": [
    "# if statement"
   ]
  },
  {
   "cell_type": "code",
   "execution_count": 13,
   "metadata": {},
   "outputs": [],
   "source": [
    "b = 6"
   ]
  },
  {
   "cell_type": "code",
   "execution_count": 15,
   "metadata": {},
   "outputs": [
    {
     "name": "stdout",
     "output_type": "stream",
     "text": [
      " true\n"
     ]
    }
   ],
   "source": [
    "if b > 5:\n",
    "    print(' true')\n",
    "else:\n",
    "    print('false')"
   ]
  },
  {
   "cell_type": "code",
   "execution_count": 16,
   "metadata": {},
   "outputs": [
    {
     "name": "stdout",
     "output_type": "stream",
     "text": [
      "lesser\n"
     ]
    }
   ],
   "source": [
    "j = 10\n",
    "if j < 11:\n",
    "    print('lesser')\n",
    "else:\n",
    "    print('greater')"
   ]
  },
  {
   "cell_type": "code",
   "execution_count": 20,
   "metadata": {},
   "outputs": [
    {
     "name": "stdout",
     "output_type": "stream",
     "text": [
      "enter your score: 59\n",
      "C\n"
     ]
    }
   ],
   "source": [
    "#Grade\n",
    "\n",
    "score = float(input('enter your score: '))\n",
    "\n",
    "if score >= 70:\n",
    "    print('A')\n",
    "elif score >= 60:\n",
    "    print('B')\n",
    "elif score >= 50:\n",
    "    print('C')\n",
    "elif score >= 45:\n",
    "    print('D')\n",
    "else:\n",
    "    print('F')"
   ]
  },
  {
   "cell_type": "code",
   "execution_count": 3,
   "metadata": {},
   "outputs": [
    {
     "name": "stdout",
     "output_type": "stream",
     "text": [
      "enter your name: damilola\n",
      "hi damilola how are you\n"
     ]
    }
   ],
   "source": [
    "name = input('enter your name: ')\n",
    "print('hi',name,'how are you')"
   ]
  },
  {
   "cell_type": "code",
   "execution_count": 5,
   "metadata": {},
   "outputs": [
    {
     "name": "stdout",
     "output_type": "stream",
     "text": [
      "enter your name: dami\n",
      "enter your age: 12\n",
      "your name is  dami your age is 12 you will be 13 next year\n"
     ]
    }
   ],
   "source": [
    "name = input('enter your name: ')\n",
    "age = int(input('enter your age: '))\n",
    "new_age = age + 1\n",
    "print('your name is ',name,'your age is',age,'you will be',new_age,'next year')"
   ]
  },
  {
   "cell_type": "code",
   "execution_count": null,
   "metadata": {},
   "outputs": [],
   "source": []
  }
 ],
 "metadata": {
  "kernelspec": {
   "display_name": "Python 3",
   "language": "python",
   "name": "python3"
  },
  "language_info": {
   "codemirror_mode": {
    "name": "ipython",
    "version": 3
   },
   "file_extension": ".py",
   "mimetype": "text/x-python",
   "name": "python",
   "nbconvert_exporter": "python",
   "pygments_lexer": "ipython3",
   "version": "3.7.3"
  }
 },
 "nbformat": 4,
 "nbformat_minor": 2
}
